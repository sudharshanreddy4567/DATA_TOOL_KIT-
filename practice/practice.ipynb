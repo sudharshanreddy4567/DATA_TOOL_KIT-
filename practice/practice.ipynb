{
 "cells": [
  {
   "cell_type": "code",
   "execution_count": 12,
   "metadata": {},
   "outputs": [
    {
     "name": "stdout",
     "output_type": "stream",
     "text": [
      "1\n",
      "2\n",
      "3\n"
     ]
    }
   ],
   "source": [
    "fd=open(\"prac1.txt\",'r')\n",
    "for i in fd:\n",
    "    print(i[0])"
   ]
  },
  {
   "cell_type": "code",
   "execution_count": 6,
   "metadata": {},
   "outputs": [
    {
     "name": "stdout",
     "output_type": "stream",
     "text": [
      "1,GOLD,5,5000\n",
      "2,SILVER,10,1000\n",
      "3,BROWNZ,20,500\n",
      "4,PLATINUM,25,10000\n",
      "5,DIAMOND,45,230000\n"
     ]
    }
   ],
   "source": [
    "for i in items:\n",
    "    print(i)"
   ]
  },
  {
   "cell_type": "code",
   "execution_count": 49,
   "metadata": {},
   "outputs": [],
   "source": []
  },
  {
   "cell_type": "code",
   "execution_count": 1,
   "metadata": {},
   "outputs": [
    {
     "name": "stdout",
     "output_type": "stream",
     "text": [
      "------------------------------------------------------------\n",
      "Item number of the product is:  3\n",
      "Name of the item:  BROWNZ\n",
      "Quantity of the item:  2\n",
      "Price of the item:  1000\n",
      "------------------------------------------------------------\n"
     ]
    }
   ],
   "source": [
    "# Open and read the file\n",
    "import time\n",
    "fd = open(\"prac1.txt\", 'r')\n",
    "items = fd.read().split('\\n')\n",
    "fd.close()\n",
    "\n",
    "# Get user inputs\n",
    "name=input(\"Enter you name: \")\n",
    "pho=input(\"Enter your phone number: \")\n",
    "email=input(\"Enter your email id: \")\n",
    "a = input(\"Enter the item number: \")\n",
    "b = input(\"Number of kg you require: \")\n",
    "\n",
    "updated_items = []\n",
    "item_found = False\n",
    "\n",
    "# Process each item in the file\n",
    "for i in items:\n",
    "    pro = i.split(\",\")\n",
    "    \n",
    "    # Ensure the line has exactly 4 elements\n",
    "    if len(pro)==4:\n",
    "        if pro[0] == a:\n",
    "            item_found = True\n",
    "            if int(pro[2]) >= int(b):\n",
    "                print('-' * 60)\n",
    "                print(\"Item number of the product is: \", pro[0])\n",
    "                print(\"Name of the item: \", pro[1])\n",
    "                print(\"Quantity of the item: \", b)\n",
    "                print(\"Price of the item: \", int(b) * int(pro[3]))\n",
    "                print('-' * 60)\n",
    "                fg=open(\"details.txt\",'a')\n",
    "                fg.write(name+\" \"+pho+\" \"+email+\" \"+time.ctime()+\"\\n\")\n",
    "                fg.close()\n",
    "                \n",
    "                # Update the quantity\n",
    "                pro[2] = str(int(pro[2]) - int(b))\n",
    "            else:\n",
    "                print(\"sorry we have less quantity\")\n",
    "                print(\"If you want to purchase it press Y/N\")\n",
    "                ch=input(\"Enter Y/N\")\n",
    "                if ch=='y' or ch=='Y':\n",
    "                    print('-' * 60)\n",
    "                    print(\"Item number of the product is: \", pro[0])\n",
    "                    print(\"Name of the item: \", pro[1])\n",
    "                    print(\"Quantity of the item: \", b)\n",
    "                    print(\"Price of the item: \", int(b) * int(pro[3]))\n",
    "                    print('-' * 60)\n",
    "                    pro[2] = str(0)\n",
    "                else:\n",
    "                    print(\"Thank you vist again\")\n",
    "                    \n",
    "\n",
    "        \n",
    "        # Append the processed item\n",
    "        updated_items.append(pro)\n",
    "\n",
    "# Recreate the list to write back to the file\n",
    "lst = []\n",
    "for i in updated_items:\n",
    "    pro1 = \",\".join(i) + \"\\n\"\n",
    "    lst.append(pro1)\n",
    "\n",
    "# Remove the last newline character from the last item\n",
    "if lst:\n",
    "    lst[-1] = lst[-1].strip()\n",
    "\n",
    "# Write the updated list back to the file\n",
    "fd = open(\"prac1.txt\", 'w')\n",
    "for i in lst:\n",
    "    fd.write(i)\n",
    "fd.close()\n",
    "\n",
    "\n",
    "\n",
    "# Notify if the item was not found\n",
    "if not item_found:\n",
    "    print(\"Item number not found in the file.\")\n"
   ]
  },
  {
   "cell_type": "code",
   "execution_count": null,
   "metadata": {},
   "outputs": [],
   "source": []
  }
 ],
 "metadata": {
  "kernelspec": {
   "display_name": "Python 3",
   "language": "python",
   "name": "python3"
  },
  "language_info": {
   "codemirror_mode": {
    "name": "ipython",
    "version": 3
   },
   "file_extension": ".py",
   "mimetype": "text/x-python",
   "name": "python",
   "nbconvert_exporter": "python",
   "pygments_lexer": "ipython3",
   "version": "3.10.7"
  }
 },
 "nbformat": 4,
 "nbformat_minor": 2
}
