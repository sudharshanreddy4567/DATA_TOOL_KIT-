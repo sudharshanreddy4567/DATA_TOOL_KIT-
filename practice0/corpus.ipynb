{
 "cells": [
  {
   "cell_type": "code",
   "execution_count": 5,
   "metadata": {},
   "outputs": [
    {
     "data": {
      "text/plain": [
       "<function TextIOWrapper.close()>"
      ]
     },
     "execution_count": 5,
     "metadata": {},
     "output_type": "execute_result"
    }
   ],
   "source": [
    "fd=open('corpus.txt','r')\n",
    "txt=fd.read()\n",
    "fd.close\n"
   ]
  },
  {
   "cell_type": "code",
   "execution_count": 6,
   "metadata": {},
   "outputs": [
    {
     "data": {
      "text/plain": [
       "\"In data science, a corpus is a large collection of authentic, naturally occurring language data, such as written text or audio, that is organized into datasets. Corpora can be used to study language and language use, and are essential for training machine learning models. \\n\\nSubex\\nWhat is a corpus in NLP? - Subex\\n30 Sept 2023 â€” A corpus is a collection of authentic text or audio organized into datasets. Authentic here means text written or audio spoken by a native of the language or dialect. A corpus can be made up of everything from newspapers, novels, recipes, radio broadcasts to television shows, movies, and tweets.\\n\\nsciencedirect.com\\nCorpus Analysis - an overview | ScienceDirect Topics\\nBy definition, a corpus contains a large amount of naturally occurring language data and therefore becomes an ideal data source for investigating language and language use. It is not uncommon now for a study of syntax or semantics to cite example sentences collected from natural corpora.\\n\\nSingleStore\\nAIâ€™s Secret Weapon: The Data Corpus\\n6 Jun 2017\\n\\noreilly.com\\nWhat is a corpus? - Python Natural Language Processing [Book]\\nIn layman's terms, you can say that a large collection of data is called corpus. So, more formally and technically, corpus can be defined as follows: Corpus is a collection of written or spoken natural language material, stored on computer, and used to find out how language is used.\\nCorpora can be generated from many sources, including:\\nSocial networks, Google and Apple app stores, Amazon marketplaces, Tweets, Movies, Television shows, and Newspapers. \\nCorpora can be searched by a computer using specialized software. For example, in Python Natural Language Processing, a corpus can be stored on a computer and used to find out how language is used.\""
      ]
     },
     "execution_count": 6,
     "metadata": {},
     "output_type": "execute_result"
    }
   ],
   "source": [
    "txt #if we are using this raw format it will directly priniting the text\n",
    "#be"
   ]
  },
  {
   "cell_type": "code",
   "execution_count": 8,
   "metadata": {},
   "outputs": [
    {
     "data": {
      "text/plain": [
       "\"In data science, a corpus is a large collection of authentic, naturally occurring language data, such as written text or audio, that is organized into datasets. Corpora can be used to study language and language use, and are essential for training machine learning models.  Subex\\nWhat is a corpus in NLP? - Subex\\n30 Sept 2023 â€” A corpus is a collection of authentic text or audio organized into datasets. Authentic here means text written or audio spoken by a native of the language or dialect. A corpus can be made up of everything from newspapers, novels, recipes, radio broadcasts to television shows, movies, and tweets. sciencedirect.com\\nCorpus Analysis - an overview | ScienceDirect Topics\\nBy definition, a corpus contains a large amount of naturally occurring language data and therefore becomes an ideal data source for investigating language and language use. It is not uncommon now for a study of syntax or semantics to cite example sentences collected from natural corpora. SingleStore\\nAIâ€™s Secret Weapon: The Data Corpus\\n6 Jun 2017 oreilly.com\\nWhat is a corpus? - Python Natural Language Processing [Book]\\nIn layman's terms, you can say that a large collection of data is called corpus. So, more formally and technically, corpus can be defined as follows: Corpus is a collection of written or spoken natural language material, stored on computer, and used to find out how language is used.\\nCorpora can be generated from many sources, including:\\nSocial networks, Google and Apple app stores, Amazon marketplaces, Tweets, Movies, Television shows, and Newspapers. \\nCorpora can be searched by a computer using specialized software. For example, in Python Natural Language Processing, a corpus can be stored on a computer and used to find out how language is used.\""
      ]
     },
     "execution_count": 8,
     "metadata": {},
     "output_type": "execute_result"
    }
   ],
   "source": [
    "txt.replace(\"\\n\\n\",' ')"
   ]
  },
  {
   "cell_type": "code",
   "execution_count": 6,
   "metadata": {},
   "outputs": [
    {
     "name": "stdout",
     "output_type": "stream",
     "text": [
      "In data science, a corpus is a large collection of authentic, naturally occurring language data, such as written text or audio, that is organized into datasets. Corpora can be used to study language and language use, and are essential for training machine learning models. \n",
      "\n",
      "Subex\n",
      "What is a corpus in NLP? - Subex\n",
      "30 Sept 2023 â€” A corpus is a collection of authentic text or audio organized into datasets. Authentic here means text written or audio spoken by a native of the language or dialect. A corpus can be made up of everything from newspapers, novels, recipes, radio broadcasts to television shows, movies, and tweets.\n",
      "\n",
      "sciencedirect.com\n",
      "Corpus Analysis - an overview | ScienceDirect Topics\n",
      "By definition, a corpus contains a large amount of naturally occurring language data and therefore becomes an ideal data source for investigating language and language use. It is not uncommon now for a study of syntax or semantics to cite example sentences collected from natural corpora.\n",
      "\n",
      "SingleStore\n",
      "AIâ€™s Secret Weapon: The Data Corpus\n",
      "6 Jun 2017\n",
      "\n",
      "oreilly.com\n",
      "What is a corpus? - Python Natural Language Processing [Book]\n",
      "In layman's terms, you can say that a large collection of data is called corpus. So, more formally and technically, corpus can be defined as follows: Corpus is a collection of written or spoken natural language material, stored on computer, and used to find out how language is used.\n",
      "Corpora can be generated from many sources, including:\n",
      "Social networks, Google and Apple app stores, Amazon marketplaces, Tweets, Movies, Television shows, and Newspapers. \n",
      "Corpora can be searched by a computer using specialized software. For example, in Python Natural Language Processing, a corpus can be stored on a computer and used to find out how language is used.\n"
     ]
    }
   ],
   "source": [
    "print(txt)"
   ]
  },
  {
   "cell_type": "code",
   "execution_count": null,
   "metadata": {},
   "outputs": [],
   "source": []
  }
 ],
 "metadata": {
  "kernelspec": {
   "display_name": "Python 3",
   "language": "python",
   "name": "python3"
  },
  "language_info": {
   "codemirror_mode": {
    "name": "ipython",
    "version": 3
   },
   "file_extension": ".py",
   "mimetype": "text/x-python",
   "name": "python",
   "nbconvert_exporter": "python",
   "pygments_lexer": "ipython3",
   "version": "3.10.7"
  }
 },
 "nbformat": 4,
 "nbformat_minor": 2
}
