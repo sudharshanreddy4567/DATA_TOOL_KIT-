{
 "cells": [
  {
   "cell_type": "code",
   "execution_count": 30,
   "metadata": {},
   "outputs": [],
   "source": [
    "fd=open(\"inventarory.txt\",\"r\")\n",
    "fd.close()"
   ]
  },
  {
   "cell_type": "markdown",
   "metadata": {},
   "source": [
    "#product details\n",
    "\n",
    "1.product name\n",
    "2.name od the product\n",
    "3.price of the product\n",
    "4.price of the product\n",
    "5quantity'\n",
    "6.catagory\n"
   ]
  },
  {
   "cell_type": "code",
   "execution_count": null,
   "metadata": {},
   "outputs": [],
   "source": []
  },
  {
   "cell_type": "code",
   "execution_count": 34,
   "metadata": {},
   "outputs": [
    {
     "name": "stdout",
     "output_type": "stream",
     "text": [
      "1\n",
      ",\n",
      "D\n",
      "a\n",
      "i\n",
      "r\n",
      "y\n",
      " \n",
      "M\n",
      "i\n",
      "l\n",
      "k\n",
      ",\n",
      "5\n",
      "0\n",
      ",\n",
      "1\n",
      "0\n",
      "0\n",
      "\n",
      "\n",
      "2\n",
      ",\n",
      "M\n",
      "i\n",
      "l\n",
      "k\n",
      "y\n",
      "B\n",
      "a\n",
      "r\n",
      ",\n",
      "6\n",
      "0\n",
      ",\n",
      "5\n",
      "0\n",
      "\n",
      "\n",
      "3\n",
      ",\n",
      "C\n",
      "a\n",
      "k\n",
      "e\n",
      ",\n",
      "5\n",
      "0\n",
      ",\n",
      "4\n",
      "0\n",
      "\n",
      "\n",
      "4\n",
      ",\n",
      "J\n",
      "i\n",
      "m\n",
      "J\n",
      "a\n",
      "m\n",
      ",\n",
      "6\n",
      "0\n",
      ",\n",
      "1\n",
      "0\n",
      "0\n"
     ]
    }
   ],
   "source": [
    "for i in products:\n",
    "    print(i)\n"
   ]
  },
  {
   "cell_type": "code",
   "execution_count": 10,
   "metadata": {},
   "outputs": [
    {
     "name": "stdout",
     "output_type": "stream",
     "text": [
      "['1', 'Dairy Milk', '50', '100']\n",
      "['2', 'MilkyBar', '60', '50']\n",
      "['3', 'Cake', '50', '40']\n",
      "['4', 'JimJam', '60', '100']\n"
     ]
    }
   ],
   "source": [
    "\n",
    "\n",
    "for i in products:\n",
    "    print(i.split(','))"
   ]
  },
  {
   "cell_type": "code",
   "execution_count": 22,
   "metadata": {},
   "outputs": [
    {
     "name": "stdout",
     "output_type": "stream",
     "text": [
      "------------------------------------------------------------\n",
      "Name of the product:  Cake\n",
      "price of the product:  50\n",
      "Quantity of thr product:  21\n",
      "------------------------------------------------------------\n",
      "Billing amount is :  1050\n",
      "------------------------------------------------------------\n",
      "----------UPDATED LIST IS:----------- \n"
     ]
    }
   ],
   "source": [
    "id=input(\"Enter the product ID: \")\n",
    "Q=input(\"Enter the product quantity: \")\n",
    "update_product=[ ]\n",
    "for i in products:\n",
    "    jio=i.split(\",\")\n",
    "    if (jio[0]==id):\n",
    "        print(\"-\"*60)\n",
    "        print(\"Name of the product: \",jio[1])\n",
    "        print(\"price of the product: \",jio[2])\n",
    "        print(\"Quantity of thr product: \",Q)\n",
    "        print('-'*60)\n",
    "        print(\"Billing amount is : \",int(Q)*int(jio[2]))\n",
    "        print(\"-\"*60)\n",
    "        jio[3]=str(int(jio[3])-int(Q))\n",
    "    update_product.append(jio)\n",
    "\n",
    "print(\"----------UPDATED LIST IS:----------- \" )\n",
    "\n",
    "\n"
   ]
  },
  {
   "cell_type": "code",
   "execution_count": null,
   "metadata": {},
   "outputs": [],
   "source": []
  },
  {
   "cell_type": "code",
   "execution_count": 23,
   "metadata": {},
   "outputs": [
    {
     "name": "stdout",
     "output_type": "stream",
     "text": [
      "1 Dairy Milk 50 100\n",
      "2 MilkyBar 60 50\n",
      "3 Cake 50 19\n",
      "4 JimJam 60 100\n"
     ]
    }
   ],
   "source": [
    "for i in update_product:\n",
    "    pro=i[0]+\" \"+i[1]+\" \"+i[2]+\" \"+i[3]\n",
    "    print(pro)"
   ]
  },
  {
   "cell_type": "code",
   "execution_count": 25,
   "metadata": {},
   "outputs": [
    {
     "data": {
      "text/plain": [
       "<function TextIOWrapper.close()>"
      ]
     },
     "execution_count": 25,
     "metadata": {},
     "output_type": "execute_result"
    }
   ],
   "source": [
    "fd=open(\"inventarory.txt\",'w')\n",
    "\n",
    "for i in update_product:\n",
    "    pro=i[0]+\" \"+i[1]+\" \"+i[2]+\" \"+i[3]\n",
    "    fd.write(pro)\n",
    "\n",
    "fd.close\n"
   ]
  }
 ],
 "metadata": {
  "kernelspec": {
   "display_name": "Python 3",
   "language": "python",
   "name": "python3"
  },
  "language_info": {
   "codemirror_mode": {
    "name": "ipython",
    "version": 3
   },
   "file_extension": ".py",
   "mimetype": "text/x-python",
   "name": "python",
   "nbconvert_exporter": "python",
   "pygments_lexer": "ipython3",
   "version": "3.10.7"
  }
 },
 "nbformat": 4,
 "nbformat_minor": 2
}
