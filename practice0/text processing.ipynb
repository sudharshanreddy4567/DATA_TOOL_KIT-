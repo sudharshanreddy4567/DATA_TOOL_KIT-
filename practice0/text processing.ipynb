{
 "cells": [
  {
   "cell_type": "code",
   "execution_count": 1,
   "metadata": {},
   "outputs": [],
   "source": [
    "fd=open('corpus.txt','r')\n",
    "text=fd.read()\n"
   ]
  },
  {
   "cell_type": "code",
   "execution_count": 3,
   "metadata": {},
   "outputs": [
    {
     "name": "stdout",
     "output_type": "stream",
     "text": [
      "In data science, a corpus is a large collection of authentic, naturally occurring language data, such as written text or audio, that is organized into datasets. Corpora can be used to study language and language use, and are essential for training machine learning models. \n",
      "\n",
      "Subex\n",
      "What is a corpus in NLP? - Subex\n",
      "30 Sept 2023 â€” A corpus is a collection of authentic text or audio organized into datasets. Authentic here means text written or audio spoken by a native of the language or dialect. A corpus can be made up of everything from newspapers, novels, recipes, radio broadcasts to television shows, movies, and tweets.\n",
      "\n",
      "sciencedirect.com\n",
      "Corpus Analysis - an overview | ScienceDirect Topics\n",
      "By definition, a corpus contains a large amount of naturally occurring language data and therefore becomes an ideal data source for investigating language and language use. It is not uncommon now for a study of syntax or semantics to cite example sentences collected from natural corpora.\n",
      "\n",
      "SingleStore\n",
      "AIâ€™s Secret Weapon: The Data Corpus\n",
      "6 Jun 2017\n",
      "\n",
      "oreilly.com\n",
      "What is a corpus? - Python Natural Language Processing [Book]\n",
      "In layman's terms, you can say that a large collection of data is called corpus. So, more formally and technically, corpus can be defined as follows: Corpus is a collection of written or spoken natural language material, stored on computer, and used to find out how language is used.\n",
      "Corpora can be generated from many sources, including:\n",
      "Social networks, Google and Apple app stores, Amazon marketplaces, Tweets, Movies, Television shows, and Newspapers. \n",
      "Corpora can be searched by a computer using specialized software. For example, in Python Natural Language Processing, a corpus can be stored on a computer and used to find out how language is used.\n"
     ]
    }
   ],
   "source": [
    "print(text)"
   ]
  },
  {
   "cell_type": "code",
   "execution_count": 4,
   "metadata": {},
   "outputs": [
    {
     "name": "stdout",
     "output_type": "stream",
     "text": [
      "<class 'str'>\n"
     ]
    }
   ],
   "source": [
    "print(type(text))"
   ]
  },
  {
   "cell_type": "code",
   "execution_count": 5,
   "metadata": {},
   "outputs": [],
   "source": [
    "per=text.split(\"\\n\\n\")"
   ]
  },
  {
   "cell_type": "code",
   "execution_count": 6,
   "metadata": {},
   "outputs": [
    {
     "name": "stdout",
     "output_type": "stream",
     "text": [
      "['In data science, a corpus is a large collection of authentic, naturally occurring language data, such as written text or audio, that is organized into datasets. Corpora can be used to study language and language use, and are essential for training machine learning models. ', 'Subex\\nWhat is a corpus in NLP? - Subex\\n30 Sept 2023 â€” A corpus is a collection of authentic text or audio organized into datasets. Authentic here means text written or audio spoken by a native of the language or dialect. A corpus can be made up of everything from newspapers, novels, recipes, radio broadcasts to television shows, movies, and tweets.', 'sciencedirect.com\\nCorpus Analysis - an overview | ScienceDirect Topics\\nBy definition, a corpus contains a large amount of naturally occurring language data and therefore becomes an ideal data source for investigating language and language use. It is not uncommon now for a study of syntax or semantics to cite example sentences collected from natural corpora.', 'SingleStore\\nAIâ€™s Secret Weapon: The Data Corpus\\n6 Jun 2017', \"oreilly.com\\nWhat is a corpus? - Python Natural Language Processing [Book]\\nIn layman's terms, you can say that a large collection of data is called corpus. So, more formally and technically, corpus can be defined as follows: Corpus is a collection of written or spoken natural language material, stored on computer, and used to find out how language is used.\\nCorpora can be generated from many sources, including:\\nSocial networks, Google and Apple app stores, Amazon marketplaces, Tweets, Movies, Television shows, and Newspapers. \\nCorpora can be searched by a computer using specialized software. For example, in Python Natural Language Processing, a corpus can be stored on a computer and used to find out how language is used.\"]\n"
     ]
    }
   ],
   "source": [
    "print(per)"
   ]
  },
  {
   "cell_type": "code",
   "execution_count": 10,
   "metadata": {},
   "outputs": [
    {
     "name": "stdout",
     "output_type": "stream",
     "text": [
      "15\n"
     ]
    }
   ],
   "source": [
    "f=len(text.split(\".\"))\n",
    "print(f)"
   ]
  },
  {
   "cell_type": "code",
   "execution_count": 12,
   "metadata": {},
   "outputs": [
    {
     "name": "stdout",
     "output_type": "stream",
     "text": [
      "275\n"
     ]
    }
   ],
   "source": [
    "g=text.split(\" \")\n",
    "print(len(g))\n"
   ]
  },
  {
   "cell_type": "code",
   "execution_count": 7,
   "metadata": {},
   "outputs": [
    {
     "data": {
      "text/plain": [
       "5"
      ]
     },
     "execution_count": 7,
     "metadata": {},
     "output_type": "execute_result"
    }
   ],
   "source": [
    "len(per)"
   ]
  },
  {
   "cell_type": "code",
   "execution_count": 9,
   "metadata": {},
   "outputs": [
    {
     "name": "stdout",
     "output_type": "stream",
     "text": [
      "['In data science, a corpus is a large collection of authentic, naturally occurring language data, such as written text or audio, that is organized into datasets. Corpora can be used to study language and language use, and are essential for training machine learning models. ', 'Subex\\nWhat is a corpus in NLP? - Subex\\n30 Sept 2023 â€” A corpus is a collection of authentic text or audio organized into datasets. Authentic here means text written or audio spoken by a native of the language or dialect. A corpus can be made up of everything from newspapers, novels, recipes, radio broadcasts to television shows, movies, and tweets.', 'sciencedirect.com\\nCorpus Analysis - an overview | ScienceDirect Topics\\nBy definition, a corpus contains a large amount of naturally occurring language data and therefore becomes an ideal data source for investigating language and language use. It is not uncommon now for a study of syntax or semantics to cite example sentences collected from natural corpora.', 'SingleStore\\nAIâ€™s Secret Weapon: The Data Corpus\\n6 Jun 2017', \"oreilly.com\\nWhat is a corpus? - Python Natural Language Processing [Book]\\nIn layman's terms, you can say that a large collection of data is called corpus. So, more formally and technically, corpus can be defined as follows: Corpus is a collection of written or spoken natural language material, stored on computer, and used to find out how language is used.\\nCorpora can be generated from many sources, including:\\nSocial networks, Google and Apple app stores, Amazon marketplaces, Tweets, Movies, Television shows, and Newspapers. \\nCorpora can be searched by a computer using specialized software. For example, in Python Natural Language Processing, a corpus can be stored on a computer and used to find out how language is used.\"]\n"
     ]
    }
   ],
   "source": [
    "print(per)"
   ]
  },
  {
   "cell_type": "markdown",
   "metadata": {},
   "source": [
    "#Finding the special character\n"
   ]
  },
  {
   "cell_type": "code",
   "execution_count": null,
   "metadata": {},
   "outputs": [],
   "source": []
  }
 ],
 "metadata": {
  "kernelspec": {
   "display_name": "Python 3",
   "language": "python",
   "name": "python3"
  },
  "language_info": {
   "codemirror_mode": {
    "name": "ipython",
    "version": 3
   },
   "file_extension": ".py",
   "mimetype": "text/x-python",
   "name": "python",
   "nbconvert_exporter": "python",
   "pygments_lexer": "ipython3",
   "version": "3.10.7"
  }
 },
 "nbformat": 4,
 "nbformat_minor": 2
}
