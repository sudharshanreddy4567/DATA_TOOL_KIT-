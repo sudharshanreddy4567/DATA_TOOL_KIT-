{
 "cells": [
  {
   "cell_type": "code",
   "execution_count": 6,
   "metadata": {},
   "outputs": [
    {
     "name": "stdout",
     "output_type": "stream",
     "text": [
      "\n"
     ]
    }
   ],
   "source": [
    "file=open(\"practice.txt\",\"a+\")\n",
    "l=[\"This is puttu\\n\",\"This is chittor\\n\",\"This is bangolre\\n\"]\n",
    "file.write(\"Hello world\\n\")\n",
    "file.writelines(l)\n",
    "y=file.read()\n",
    "print(y)"
   ]
  },
  {
   "cell_type": "code",
   "execution_count": 13,
   "metadata": {},
   "outputs": [
    {
     "name": "stdout",
     "output_type": "stream",
     "text": [
      "Output of read function os: \n",
      "\n",
      "Output of read function os:\n",
      "Hello how are you\n",
      "\n",
      "Output of read(9) function os:\n",
      "Hel\n"
     ]
    }
   ],
   "source": [
    "file1=open(\"myfile.txt\",\"a+\")\n",
    "print(\"Output of read function os: \")\n",
    "file1.write(\"Hello how are you\\n\")\n",
    "print(file1.read())\n",
    "file1.seek(0)\n",
    "print(\"Output of read function os:\")\n",
    "print(file1.readline())\n",
    "print(\"Output of read(9) function os:\")\n",
    "print(file1.readline(3))\n"
   ]
  }
 ],
 "metadata": {
  "kernelspec": {
   "display_name": "Python 3",
   "language": "python",
   "name": "python3"
  },
  "language_info": {
   "codemirror_mode": {
    "name": "ipython",
    "version": 3
   },
   "file_extension": ".py",
   "mimetype": "text/x-python",
   "name": "python",
   "nbconvert_exporter": "python",
   "pygments_lexer": "ipython3",
   "version": "3.10.7"
  }
 },
 "nbformat": 4,
 "nbformat_minor": 2
}
