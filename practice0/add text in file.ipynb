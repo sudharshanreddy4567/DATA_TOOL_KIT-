{
 "cells": [
  {
   "cell_type": "markdown",
   "metadata": {},
   "source": [
    "#my note book"
   ]
  },
  {
   "cell_type": "code",
   "execution_count": 1,
   "metadata": {},
   "outputs": [
    {
     "name": "stdout",
     "output_type": "stream",
     "text": [
      " Volume in drive C is OS\n",
      " Volume Serial Number is 8AC4-B69B\n",
      "\n",
      " Directory of c:\\Users\\kamak\\OneDrive\\Desktop\\python gfg\\DATA TOOL KIT\n",
      "\n",
      "06/17/2024  07:47 PM    <DIR>          .\n",
      "06/16/2024  07:59 AM    <DIR>          ..\n",
      "06/17/2024  07:48 PM               779 add text in file.ipynb\n",
      "06/17/2024  07:18 PM             7,503 corpus.ipynb\n",
      "06/16/2024  08:08 AM             1,799 corpus.txt\n",
      "06/16/2024  08:03 AM                26 data.txt\n",
      "06/16/2024  08:04 AM               802 FILE reading.ipynb\n",
      "06/17/2024  07:33 PM             8,436 text processing.ipynb\n",
      "               6 File(s)         19,345 bytes\n",
      "               2 Dir(s)  384,322,940,928 bytes free\n"
     ]
    }
   ],
   "source": [
    "ls"
   ]
  },
  {
   "cell_type": "code",
   "execution_count": 15,
   "metadata": {},
   "outputs": [],
   "source": [
    "fd=open(\"fileread.txt\",'a')\n",
    "txt=input(\"Enter the text\")\n",
    "txt=txt+\".\\n\"\n",
    "fd.write(txt)\n",
    "fd.close()"
   ]
  },
  {
   "cell_type": "code",
   "execution_count": 11,
   "metadata": {},
   "outputs": [],
   "source": []
  }
 ],
 "metadata": {
  "kernelspec": {
   "display_name": "Python 3",
   "language": "python",
   "name": "python3"
  },
  "language_info": {
   "codemirror_mode": {
    "name": "ipython",
    "version": 3
   },
   "file_extension": ".py",
   "mimetype": "text/x-python",
   "name": "python",
   "nbconvert_exporter": "python",
   "pygments_lexer": "ipython3",
   "version": "3.10.7"
  }
 },
 "nbformat": 4,
 "nbformat_minor": 2
}
