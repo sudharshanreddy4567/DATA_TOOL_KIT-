{
 "cells": [
  {
   "cell_type": "code",
   "execution_count": 35,
   "metadata": {},
   "outputs": [
    {
     "name": "stdout",
     "output_type": "stream",
     "text": [
      "1,BMW,200000,5\n",
      "2,BENZ,300000,4\n",
      "3,KIA,100000,6\n",
      "4,AUDI,300000,2\n",
      "5,SWIFT,50000,6\n"
     ]
    },
    {
     "data": {
      "text/plain": [
       "'1,BMW,200000,5\\n2,BENZ,300000,4\\n3,KIA,100000,6\\n4,AUDI,300000,2\\n5,SWIFT,50000,6'"
      ]
     },
     "execution_count": 35,
     "metadata": {},
     "output_type": "execute_result"
    }
   ],
   "source": [
    "fd=open(\"pra1.txt\",'r')\n",
    "cars=fd.read()\n",
    "print(cars)\n",
    "cars"
   ]
  },
  {
   "cell_type": "code",
   "execution_count": 40,
   "metadata": {},
   "outputs": [
    {
     "name": "stdout",
     "output_type": "stream",
     "text": [
      "1\n",
      ",\n",
      "B\n",
      "M\n",
      "W\n",
      ",\n",
      "2\n",
      "0\n",
      "0\n",
      "0\n",
      "0\n",
      "0\n",
      ",\n",
      "5\n",
      "\n",
      "\n",
      "2\n",
      ",\n",
      "B\n",
      "E\n",
      "N\n",
      "Z\n",
      ",\n",
      "3\n",
      "0\n",
      "0\n",
      "0\n",
      "0\n",
      "0\n",
      ",\n",
      "4\n",
      "\n",
      "\n",
      "3\n",
      ",\n",
      "K\n",
      "I\n",
      "A\n",
      ",\n",
      "1\n",
      "0\n",
      "0\n",
      "0\n",
      "0\n",
      "0\n",
      ",\n",
      "6\n",
      "\n",
      "\n",
      "4\n",
      ",\n",
      "A\n",
      "U\n",
      "D\n",
      "I\n",
      ",\n",
      "3\n",
      "0\n",
      "0\n",
      "0\n",
      "0\n",
      "0\n",
      ",\n",
      "2\n",
      "\n",
      "\n",
      "5\n",
      ",\n",
      "S\n",
      "W\n",
      "I\n",
      "F\n",
      "T\n",
      ",\n",
      "5\n",
      "0\n",
      "0\n",
      "0\n",
      "0\n",
      ",\n",
      "6\n"
     ]
    }
   ],
   "source": [
    "for i in cars:\n",
    "    print(i)"
   ]
  }
 ],
 "metadata": {
  "kernelspec": {
   "display_name": "Python 3",
   "language": "python",
   "name": "python3"
  },
  "language_info": {
   "codemirror_mode": {
    "name": "ipython",
    "version": 3
   },
   "file_extension": ".py",
   "mimetype": "text/x-python",
   "name": "python",
   "nbconvert_exporter": "python",
   "pygments_lexer": "ipython3",
   "version": "3.10.7"
  }
 },
 "nbformat": 4,
 "nbformat_minor": 2
}
