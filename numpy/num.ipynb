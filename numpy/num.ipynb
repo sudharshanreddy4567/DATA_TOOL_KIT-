{
 "cells": [
  {
   "cell_type": "code",
   "execution_count": 1,
   "metadata": {},
   "outputs": [
    {
     "name": "stdout",
     "output_type": "stream",
     "text": [
      "Requirement already satisfied: numpy in c:\\users\\kamak\\appdata\\local\\programs\\python\\python310\\lib\\site-packages (2.0.0)\n"
     ]
    },
    {
     "name": "stderr",
     "output_type": "stream",
     "text": [
      "\n",
      "[notice] A new release of pip available: 22.2.2 -> 24.2\n",
      "[notice] To update, run: python.exe -m pip install --upgrade pip\n"
     ]
    }
   ],
   "source": [
    "!pip install numpy"
   ]
  },
  {
   "cell_type": "code",
   "execution_count": 2,
   "metadata": {},
   "outputs": [],
   "source": [
    "import numpy as np\n"
   ]
  },
  {
   "cell_type": "code",
   "execution_count": 4,
   "metadata": {},
   "outputs": [
    {
     "data": {
      "text/plain": [
       "<module 'numpy' from 'c:\\\\Users\\\\kamak\\\\AppData\\\\Local\\\\Programs\\\\Python\\\\Python310\\\\lib\\\\site-packages\\\\numpy\\\\__init__.py'>"
      ]
     },
     "execution_count": 4,
     "metadata": {},
     "output_type": "execute_result"
    }
   ],
   "source": [
    "np"
   ]
  },
  {
   "cell_type": "code",
   "execution_count": 4,
   "metadata": {},
   "outputs": [
    {
     "name": "stdout",
     "output_type": "stream",
     "text": [
      "[[1, 2, 3], [2, 3, 4], [6, 7, 8]]\n",
      "<class 'list'>\n"
     ]
    }
   ],
   "source": [
    "lst=[[1,2,3],[2,3,4],[6,7,8]]\n",
    "print(lst)\n",
    "print(type(lst))"
   ]
  },
  {
   "cell_type": "code",
   "execution_count": 9,
   "metadata": {},
   "outputs": [
    {
     "name": "stdout",
     "output_type": "stream",
     "text": [
      "[[1 2 3]\n",
      " [2 3 4]\n",
      " [6 7 8]]\n",
      "2\n",
      "(3, 3)\n",
      "9\n",
      "int64\n"
     ]
    }
   ],
   "source": [
    "arr=np.array(lst)\n",
    "print(arr)\n",
    "print(arr.ndim)\n",
    "print(arr.shape)\n",
    "print(arr.size)\n",
    "print(arr.dtype)\n",
    "\n"
   ]
  },
  {
   "cell_type": "code",
   "execution_count": 10,
   "metadata": {},
   "outputs": [
    {
     "name": "stdout",
     "output_type": "stream",
     "text": [
      "[[1. 1. 1. 1. 1. 1.]\n",
      " [1. 1. 1. 1. 1. 1.]\n",
      " [1. 1. 1. 1. 1. 1.]\n",
      " [1. 1. 1. 1. 1. 1.]]\n",
      "<class 'numpy.ndarray'>\n"
     ]
    }
   ],
   "source": [
    "o=np.ones((4,6))\n",
    "print(o)\n",
    "print(type(o))"
   ]
  },
  {
   "cell_type": "code",
   "execution_count": 26,
   "metadata": {},
   "outputs": [
    {
     "data": {
      "text/plain": [
       "array([[0.66063782, 0.05792062, 0.9357216 ],\n",
       "       [0.23381545, 0.3244294 , 0.32733618],\n",
       "       [0.00490063, 0.92633742, 0.09662146]])"
      ]
     },
     "execution_count": 26,
     "metadata": {},
     "output_type": "execute_result"
    }
   ],
   "source": [
    "k=np.random.random((3,3))\n",
    "k"
   ]
  },
  {
   "cell_type": "code",
   "execution_count": 11,
   "metadata": {},
   "outputs": [
    {
     "name": "stdout",
     "output_type": "stream",
     "text": [
      "Dont ruin the function\n"
     ]
    }
   ],
   "source": [
    "if np.random.random() >0.6:\n",
    "    print(\"Run the function\")\n",
    "else:\n",
    "    print(\"Dont ruin the function\")"
   ]
  },
  {
   "cell_type": "code",
   "execution_count": 13,
   "metadata": {},
   "outputs": [
    {
     "data": {
      "text/plain": [
       "array([ 1,  4,  7, 10, 13, 16, 19])"
      ]
     },
     "execution_count": 13,
     "metadata": {},
     "output_type": "execute_result"
    }
   ],
   "source": [
    "np.arange(1,20,3)"
   ]
  },
  {
   "cell_type": "code",
   "execution_count": 15,
   "metadata": {},
   "outputs": [
    {
     "data": {
      "text/plain": [
       "array([ 1.    ,  1.1875,  1.375 ,  1.5625,  1.75  ,  1.9375,  2.125 ,\n",
       "        2.3125,  2.5   ,  2.6875,  2.875 ,  3.0625,  3.25  ,  3.4375,\n",
       "        3.625 ,  3.8125,  4.    ,  4.1875,  4.375 ,  4.5625,  4.75  ,\n",
       "        4.9375,  5.125 ,  5.3125,  5.5   ,  5.6875,  5.875 ,  6.0625,\n",
       "        6.25  ,  6.4375,  6.625 ,  6.8125,  7.    ,  7.1875,  7.375 ,\n",
       "        7.5625,  7.75  ,  7.9375,  8.125 ,  8.3125,  8.5   ,  8.6875,\n",
       "        8.875 ,  9.0625,  9.25  ,  9.4375,  9.625 ,  9.8125, 10.    ])"
      ]
     },
     "execution_count": 15,
     "metadata": {},
     "output_type": "execute_result"
    }
   ],
   "source": [
    "np.linspace(1,10,49) #this are with equidistance\n"
   ]
  },
  {
   "cell_type": "code",
   "execution_count": 47,
   "metadata": {},
   "outputs": [
    {
     "data": {
      "text/plain": [
       "array([[0.67675293, 0.218945  ],\n",
       "       [0.82400337, 0.85047493],\n",
       "       [0.17789831, 0.38521529]])"
      ]
     },
     "execution_count": 47,
     "metadata": {},
     "output_type": "execute_result"
    }
   ],
   "source": [
    "j=np.random.random((3,2))\n",
    "j"
   ]
  },
  {
   "cell_type": "code",
   "execution_count": 49,
   "metadata": {},
   "outputs": [
    {
     "data": {
      "text/plain": [
       "array([[0.67675293, 0.218945  , 0.82400337, 0.85047493, 0.17789831,\n",
       "        0.38521529]])"
      ]
     },
     "execution_count": 49,
     "metadata": {},
     "output_type": "execute_result"
    }
   ],
   "source": [
    "k=np.reshape(j,(1,6))\n",
    "k"
   ]
  },
  {
   "cell_type": "code",
   "execution_count": 51,
   "metadata": {},
   "outputs": [
    {
     "data": {
      "text/plain": [
       "array([0.67675293, 0.218945  , 0.82400337, 0.85047493, 0.17789831,\n",
       "       0.38521529])"
      ]
     },
     "execution_count": 51,
     "metadata": {},
     "output_type": "execute_result"
    }
   ],
   "source": [
    "k.flatten() # to flatten convert multi dimensional array to noe dimensional"
   ]
  },
  {
   "cell_type": "code",
   "execution_count": 2,
   "metadata": {},
   "outputs": [
    {
     "data": {
      "text/plain": [
       "array([1, 2, 3, 4, 5, 6, 2, 3, 4])"
      ]
     },
     "execution_count": 2,
     "metadata": {},
     "output_type": "execute_result"
    }
   ],
   "source": [
    "import numpy as sud\n",
    "arr=sud.array([i for i in range(1,7)] +[ j for j in range(2,5)])\n",
    "arr"
   ]
  },
  {
   "cell_type": "code",
   "execution_count": 81,
   "metadata": {},
   "outputs": [
    {
     "name": "stdout",
     "output_type": "stream",
     "text": [
      "[2 3 4 5 6 7 3 4 5]\n",
      "[ 2  4  6  8 10 12  4  6  8]\n",
      "[0.5 1.  1.5 2.  2.5 3.  1.  1.5 2. ]\n",
      "[ 5 10 15 20 25 30 10 15 20]\n",
      "[  1   8  27  64 125 216   8  27  64]\n"
     ]
    }
   ],
   "source": [
    "print(arr+1,sep=\",\")\n",
    "print(arr*2)\n",
    "print(arr/2)\n",
    "print(arr*5)\n",
    "print(arr**3)\n",
    "\n"
   ]
  },
  {
   "cell_type": "code",
   "execution_count": 18,
   "metadata": {},
   "outputs": [
    {
     "name": "stdout",
     "output_type": "stream",
     "text": [
      "6\n"
     ]
    },
    {
     "data": {
      "text/plain": [
       "np.int64(1)"
      ]
     },
     "execution_count": 18,
     "metadata": {},
     "output_type": "execute_result"
    }
   ],
   "source": [
    "print(arr.max())\n",
    "arr.min()"
   ]
  },
  {
   "cell_type": "code",
   "execution_count": 3,
   "metadata": {},
   "outputs": [
    {
     "name": "stdout",
     "output_type": "stream",
     "text": [
      "[23  7  6]\n",
      "[1 5 2]\n",
      "[27 18 12]\n"
     ]
    }
   ],
   "source": [
    "a=[[1,23,3],[6,7,5],[6,2,4]]\n",
    "p=sud.array(a)\n",
    "p\n",
    "print(p.max(axis=1))\n",
    "print(p.min(axis=1))\n",
    "print(p.sum(axis=1))"
   ]
  },
  {
   "cell_type": "code",
   "execution_count": 157,
   "metadata": {},
   "outputs": [
    {
     "name": "stdout",
     "output_type": "stream",
     "text": [
      "a =  [[1 2 4]\n",
      " [3 5 6]\n",
      " [9 7 5]]\n",
      " b = [[9 8 7]\n",
      " [4 5 3]\n",
      " [7 5 2]]\n"
     ]
    },
    {
     "data": {
      "text/plain": [
       "array([[10, 10, 11],\n",
       "       [ 7, 10,  9],\n",
       "       [16, 12,  7]])"
      ]
     },
     "execution_count": 157,
     "metadata": {},
     "output_type": "execute_result"
    }
   ],
   "source": [
    "import numpy as nu\n",
    "arr=nu.array([[1,2,4],[3,5,6],[9,7,5]])\n",
    "print(\"a = \",arr)\n",
    "arr1=nu.array([[9,8,7],[4,5,3],[7,5,2]])\n",
    "print(\" b =\",arr1)\n",
    "arr1+arr"
   ]
  },
  {
   "cell_type": "code",
   "execution_count": 101,
   "metadata": {},
   "outputs": [
    {
     "data": {
      "text/plain": [
       "array([[ 96, 107, 119],\n",
       "       [ 46,  54,  61],\n",
       "       [ 40,  53,  68]])"
      ]
     },
     "execution_count": 101,
     "metadata": {},
     "output_type": "execute_result"
    }
   ],
   "source": [
    "arr1*arr\n",
    "arr-arr1\n",
    "arr1.dot(arr)"
   ]
  },
  {
   "cell_type": "code",
   "execution_count": 25,
   "metadata": {},
   "outputs": [
    {
     "data": {
      "text/plain": [
       "array([1, 2, 3, 4, 5])"
      ]
     },
     "execution_count": 25,
     "metadata": {},
     "output_type": "execute_result"
    }
   ],
   "source": [
    "s=sud.array([i for i in range(1,6)])\n",
    "s\n"
   ]
  },
  {
   "cell_type": "code",
   "execution_count": 26,
   "metadata": {},
   "outputs": [
    {
     "data": {
      "text/plain": [
       "array([1, 2, 3, 4, 5, 6, 2, 3, 4])"
      ]
     },
     "execution_count": 26,
     "metadata": {},
     "output_type": "execute_result"
    }
   ],
   "source": [
    "s[-2:-3]\n",
    "arr"
   ]
  },
  {
   "cell_type": "code",
   "execution_count": 137,
   "metadata": {},
   "outputs": [
    {
     "data": {
      "text/plain": [
       "array([[1]])"
      ]
     },
     "execution_count": 137,
     "metadata": {},
     "output_type": "execute_result"
    }
   ],
   "source": [
    "arr[:1,:1]"
   ]
  },
  {
   "cell_type": "code",
   "execution_count": 149,
   "metadata": {},
   "outputs": [
    {
     "data": {
      "text/plain": [
       "array([[ 1,  4,  7, 10, 13, 16, 19, 22, 25, 28]])"
      ]
     },
     "execution_count": 149,
     "metadata": {},
     "output_type": "execute_result"
    }
   ],
   "source": [
    "import numpy as np\n",
    "ar=np.array([[1,2,3,32],[5,3,576,2],[1,2,3,4]])\n",
    "\n",
    "d=np.array([np.arange(1,30,3)])\n",
    "np.sort(d,axis=1,kind='mergesort')"
   ]
  },
  {
   "cell_type": "code",
   "execution_count": 37,
   "metadata": {},
   "outputs": [
    {
     "name": "stdout",
     "output_type": "stream",
     "text": [
      "[[ 1  3  5  7  9 11 13 15 17 19 21 23 25 27 29]]\n"
     ]
    }
   ],
   "source": [
    "import numpy as df\n",
    "arr=df.array([df.arange(1,30,2)])\n",
    "\n",
    "print(arr)"
   ]
  },
  {
   "cell_type": "code",
   "execution_count": 34,
   "metadata": {},
   "outputs": [
    {
     "name": "stdout",
     "output_type": "stream",
     "text": [
      "[[ 1  3  5  7  9 11 13 15 17 19 21 23 25 27 29]]\n"
     ]
    }
   ],
   "source": [
    "arr\n",
    "i=df.sort(arr,axis=1,kind='mergesort')\n",
    "df.sort(arr,axis=0,kind='mergesort')\n",
    "print(i)\n"
   ]
  },
  {
   "cell_type": "code",
   "execution_count": 36,
   "metadata": {},
   "outputs": [
    {
     "name": "stdout",
     "output_type": "stream",
     "text": [
      "[[1 2 3 4]\n",
      " [5 6 7 8]] \n",
      "\n",
      " [[8 7 6 5]\n",
      " [4 3 2 1]]\n"
     ]
    }
   ],
   "source": [
    "arr1=df.array([[1,2,3,4],[5,6,7,8]])\n",
    "arr2=df.array([[8,7,6,5],[4,3,2,1]])\n",
    "print(arr1,\"\\n\\n\",arr2)"
   ]
  },
  {
   "cell_type": "code",
   "execution_count": 35,
   "metadata": {},
   "outputs": [
    {
     "ename": "NameError",
     "evalue": "name 'arr1' is not defined",
     "output_type": "error",
     "traceback": [
      "\u001b[1;31m---------------------------------------------------------------------------\u001b[0m",
      "\u001b[1;31mNameError\u001b[0m                                 Traceback (most recent call last)",
      "Cell \u001b[1;32mIn[35], line 1\u001b[0m\n\u001b[1;32m----> 1\u001b[0m df\u001b[38;5;241m.\u001b[39mvstack((\u001b[43marr1\u001b[49m,arr2))\n\u001b[0;32m      2\u001b[0m df\u001b[38;5;241m.\u001b[39mvstack((arr2,arr1))\n\u001b[0;32m      3\u001b[0m df\u001b[38;5;241m.\u001b[39mhstack((arr1,arr2))\n",
      "\u001b[1;31mNameError\u001b[0m: name 'arr1' is not defined"
     ]
    }
   ],
   "source": [
    "df.vstack((arr1,arr2))\n",
    "df.vstack((arr2,arr1))\n",
    "df.hstack((arr1,arr2))\n",
    "df.concatenate((arr1,arr2),axis=1)\n",
    "df.concatenate((arr1,arr2),axis=0)\n",
    "df.vstack((arr2,arr1))"
   ]
  },
  {
   "cell_type": "code",
   "execution_count": 206,
   "metadata": {},
   "outputs": [
    {
     "data": {
      "text/plain": [
       "[array([[1, 2, 3, 4]]), array([[5, 6, 7, 8]])]"
      ]
     },
     "execution_count": 206,
     "metadata": {},
     "output_type": "execute_result"
    }
   ],
   "source": [
    "df.split(arr1,2)\n",
    "df.hsplit(arr1,2)\n",
    "df.vsplit(arr1,2)"
   ]
  },
  {
   "cell_type": "code",
   "execution_count": 207,
   "metadata": {},
   "outputs": [
    {
     "data": {
      "text/plain": [
       "array([[1, 2, 3, 4],\n",
       "       [5, 6, 7, 8]])"
      ]
     },
     "execution_count": 207,
     "metadata": {},
     "output_type": "execute_result"
    }
   ],
   "source": [
    "arr1"
   ]
  },
  {
   "cell_type": "code",
   "execution_count": 222,
   "metadata": {},
   "outputs": [
    {
     "name": "stdout",
     "output_type": "stream",
     "text": [
      "[[1 2 3 4]\n",
      " [5 6 7 8]\n",
      " [8 7 6 5]\n",
      " [4 3 2 1]]\n",
      "[0 1 2 3 4 5 6 7 8]\n"
     ]
    },
    {
     "ename": "IndexError",
     "evalue": "too many indices for array: array is 1-dimensional, but 2 were indexed",
     "output_type": "error",
     "traceback": [
      "\u001b[1;31m---------------------------------------------------------------------------\u001b[0m",
      "\u001b[1;31mIndexError\u001b[0m                                Traceback (most recent call last)",
      "Cell \u001b[1;32mIn[222], line 10\u001b[0m\n\u001b[0;32m      8\u001b[0m l[\u001b[38;5;241m2\u001b[39m:\u001b[38;5;241m6\u001b[39m]\n\u001b[0;32m      9\u001b[0m l[\u001b[38;5;241m3\u001b[39m:\u001b[38;5;241m-\u001b[39m\u001b[38;5;241m3\u001b[39m]\n\u001b[1;32m---> 10\u001b[0m \u001b[43mk\u001b[49m\u001b[43m[\u001b[49m\u001b[43m:\u001b[49m\u001b[38;5;241;43m1\u001b[39;49m\u001b[43m \u001b[49m\u001b[43m,\u001b[49m\u001b[43m:\u001b[49m\u001b[43m \u001b[49m\u001b[43m]\u001b[49m\n",
      "\u001b[1;31mIndexError\u001b[0m: too many indices for array: array is 1-dimensional, but 2 were indexed"
     ]
    }
   ],
   "source": [
    "import numpy as fb\n",
    "k=fb.array([[1,2,3,4],[5,6,7,8],[8,7,6,5],[4,3,2,1]])\n",
    "print(k)\n",
    "l=fb.array([i for i in range(0,9)])\n",
    "print(l)\n",
    "k=fb.array([i for i in range(0,11)])\n",
    "l[2:6]\n",
    "l[3:-3]\n",
    "k[:1 ,: ]"
   ]
  },
  {
   "cell_type": "code",
   "execution_count": 237,
   "metadata": {},
   "outputs": [
    {
     "name": "stdout",
     "output_type": "stream",
     "text": [
      "5\n"
     ]
    },
    {
     "data": {
      "text/plain": [
       "[array([1, 2, 3, 4]), array([5, 6, 7, 8])]"
      ]
     },
     "execution_count": 237,
     "metadata": {},
     "output_type": "execute_result"
    }
   ],
   "source": [
    "import numpy as np\n",
    "lst=[ i for i in range(0,11)]\n",
    "l=0\n",
    "for i in lst:\n",
    "    if(i>5):\n",
    "        l=l+1\n",
    "    \n",
    "print(l)\n",
    "arr1\n",
    "list(arr1)\n",
    "list.arr\n"
   ]
  },
  {
   "cell_type": "code",
   "execution_count": 232,
   "metadata": {},
   "outputs": [
    {
     "name": "stdout",
     "output_type": "stream",
     "text": [
      "[1 6]\n"
     ]
    }
   ],
   "source": [
    "kst=np.array(lst)\n",
    "kst[kst>5]\n",
    "len(kst)\n",
    "(kst[kst % 5==0])\n",
    "print(kst[kst % 5==1])\n",
    "list()\n"
   ]
  },
  {
   "cell_type": "code",
   "execution_count": 275,
   "metadata": {},
   "outputs": [
    {
     "name": "stdout",
     "output_type": "stream",
     "text": [
      "[[ 1  2  3  4  5  6  7  8  9 10]\n",
      " [20 30 40 50 60  9  8  7  6  5]]\n"
     ]
    }
   ],
   "source": [
    "c=np.array([[1,2,3,4,5],[20,30,40,50,60]])\n",
    "d=np.array([[6,7,8,9,10],[9,8,7,6,5]])\n",
    "d=np.column_stack([c,d])\n",
    "print(d)"
   ]
  },
  {
   "cell_type": "code",
   "execution_count": 269,
   "metadata": {},
   "outputs": [
    {
     "name": "stdout",
     "output_type": "stream",
     "text": [
      "[2 5 6 8 3]\n",
      "[2]\n",
      "[1 3 4 7 5 2]\n",
      "[]\n"
     ]
    }
   ],
   "source": [
    "c=np.array([1,2,3,5,4,6,7,8,5,3,2])\n",
    "c\n",
    "print(c[1::2])\n",
    "print(c[1:2])\n",
    "print(c[::2])\n",
    "print(c[1:1])"
   ]
  }
 ],
 "metadata": {
  "kernelspec": {
   "display_name": "Python 3",
   "language": "python",
   "name": "python3"
  },
  "language_info": {
   "codemirror_mode": {
    "name": "ipython",
    "version": 3
   },
   "file_extension": ".py",
   "mimetype": "text/x-python",
   "name": "python",
   "nbconvert_exporter": "python",
   "pygments_lexer": "ipython3",
   "version": "3.10.7"
  }
 },
 "nbformat": 4,
 "nbformat_minor": 2
}
